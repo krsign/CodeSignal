{
 "cells": [
  {
   "cell_type": "markdown",
   "metadata": {},
   "source": [
    "# All Longest String\n",
    "    Given an array of strings, return another array containing all of its longest strings.\n",
    "    \n",
    "    inputArray = [\"aba\", \"aa\", \"ad\", \"vcd\", \"aba\"]\n",
    "    output = [\"aba\", \"vcd\", \"aba\"]."
   ]
  },
  {
   "cell_type": "code",
   "execution_count": 3,
   "metadata": {},
   "outputs": [],
   "source": [
    "def allLongestStrings(inputArray):\n",
    "    lens = map(len, inputArray)\n",
    "    max_len = max(lens)\n",
    "    return list(filter(lambda x : len(x) == max_len, inputArray))"
   ]
  },
  {
   "cell_type": "code",
   "execution_count": 4,
   "metadata": {},
   "outputs": [
    {
     "data": {
      "text/plain": [
       "['aba', 'vcd', 'aba']"
      ]
     },
     "execution_count": 4,
     "metadata": {},
     "output_type": "execute_result"
    }
   ],
   "source": [
    "allLongestStrings([\"aba\", \"aa\", \"ad\", \"vcd\", \"aba\"])"
   ]
  },
  {
   "cell_type": "markdown",
   "metadata": {},
   "source": [
    "# Common Character Count\n",
    "    Given two strings, find the number of common characters between them.\n",
    "\n",
    "    For s1 = \"aabcc\" and s2 = \"adcaa\", the output should be\n",
    "    commonCharacterCount(s1, s2) = 3.\n",
    "\n",
    "    Strings have 3 common characters - 2 \"a\"s and 1 \"c\"."
   ]
  },
  {
   "cell_type": "code",
   "execution_count": 26,
   "metadata": {
    "scrolled": true
   },
   "outputs": [
    {
     "name": "stdout",
     "output_type": "stream",
     "text": [
      "['a', 'a', 'b', 'c', 'c']\n",
      "['a', 'd', 'c', 'a', 'a']\n"
     ]
    }
   ],
   "source": [
    "s1 = 'aabcc'\n",
    "s_1 = s1.split()\n",
    "s1_list = []\n",
    "for i in s_1:\n",
    "    for j in s_1[0]:\n",
    "        s1_list.append(j)\n",
    "print(s1_list)\n",
    "\n",
    "s2 = 'adcaa'\n",
    "s_2 = s2.split()\n",
    "s2_list = []\n",
    "for i in s_2:\n",
    "    for j in s_2[0]:\n",
    "        s2_list.append(j)\n",
    "print(s2_list)"
   ]
  },
  {
   "cell_type": "code",
   "execution_count": 41,
   "metadata": {},
   "outputs": [
    {
     "name": "stdout",
     "output_type": "stream",
     "text": [
      "3\n"
     ]
    }
   ],
   "source": [
    "s1 = 'aabcc'\n",
    "s2 = 'adcaa'\n",
    "s3 = list(s1)\n",
    "s4 = list(s2)\n",
    "l1 = []\n",
    "for i in s3:\n",
    "    if i in s4:\n",
    "        l1.append(i)\n",
    "        s4.remove(i)\n",
    "print(len(l1))"
   ]
  },
  {
   "cell_type": "code",
   "execution_count": 35,
   "metadata": {},
   "outputs": [
    {
     "name": "stdout",
     "output_type": "stream",
     "text": [
      "['__add__', '__class__', '__contains__', '__delattr__', '__dir__', '__doc__', '__eq__', '__format__', '__ge__', '__getattribute__', '__getitem__', '__getnewargs__', '__gt__', '__hash__', '__init__', '__init_subclass__', '__iter__', '__le__', '__len__', '__lt__', '__mod__', '__mul__', '__ne__', '__new__', '__reduce__', '__reduce_ex__', '__repr__', '__rmod__', '__rmul__', '__setattr__', '__sizeof__', '__str__', '__subclasshook__', 'capitalize', 'casefold', 'center', 'count', 'encode', 'endswith', 'expandtabs', 'find', 'format', 'format_map', 'index', 'isalnum', 'isalpha', 'isascii', 'isdecimal', 'isdigit', 'isidentifier', 'islower', 'isnumeric', 'isprintable', 'isspace', 'istitle', 'isupper', 'join', 'ljust', 'lower', 'lstrip', 'maketrans', 'partition', 'replace', 'rfind', 'rindex', 'rjust', 'rpartition', 'rsplit', 'rstrip', 'split', 'splitlines', 'startswith', 'strip', 'swapcase', 'title', 'translate', 'upper', 'zfill']\n"
     ]
    }
   ],
   "source": [
    "print(dir(str))"
   ]
  },
  {
   "cell_type": "code",
   "execution_count": 36,
   "metadata": {},
   "outputs": [
    {
     "data": {
      "text/plain": [
       "['a', 'a', 'b', 'c', 'c']"
      ]
     },
     "execution_count": 36,
     "metadata": {},
     "output_type": "execute_result"
    }
   ],
   "source": [
    "s1 = 'aabcc'\n",
    "s2 = 'adcaa'\n",
    "s3 = list(s1)\n",
    "s3"
   ]
  },
  {
   "cell_type": "markdown",
   "metadata": {},
   "source": [
    "# isLucky\n",
    "    Ticket numbers usually consist of an even number of digits. A ticket number is considered lucky if the sum of the first half of the digits is equal to the sum of the second half.\n",
    "\n",
    "    Given a ticket number n, determine if it's lucky or not.\n",
    "    \n",
    "        For n = 1230, the output should be\n",
    "        isLucky(n) = true;\n",
    "        For n = 239017, the output should be\n",
    "        isLucky(n) = false.\n",
    "\n",
    "\n"
   ]
  },
  {
   "cell_type": "code",
   "execution_count": 68,
   "metadata": {},
   "outputs": [
    {
     "name": "stdout",
     "output_type": "stream",
     "text": [
      "False\n"
     ]
    }
   ],
   "source": [
    "n = '134008'\n",
    "lenght = len(n)\n",
    "nsplit = [int(i) for i in n]\n",
    "first_half = 0\n",
    "second_half = 0\n",
    "\n",
    "for i in range(lenght):\n",
    "    if (i // 2):\n",
    "        first_half += nsplit[i]\n",
    "    else:\n",
    "        second_half += nsplit[i]\n",
    "if first_half == second_half:\n",
    "    print(True)\n",
    "else:\n",
    "    print(False)\n",
    "    "
   ]
  },
  {
   "cell_type": "code",
   "execution_count": 8,
   "metadata": {},
   "outputs": [],
   "source": [
    "n1 = str(134008)\n",
    "\n",
    "n2 = n[0:len(n)//2]\n",
    "n3 = n[len(n)//2:]\n",
    "\n",
    "first_half = 0\n",
    "second_half = 0\n",
    "for i in n2:\n",
    "    first_half += int(i)\n",
    "for i in n3:\n",
    "    second_half += int(i)\n",
    "if first_half == second_half:\n",
    "    return True\n",
    "else:\n",
    "    return False"
   ]
  },
  {
   "cell_type": "code",
   "execution_count": 10,
   "metadata": {},
   "outputs": [
    {
     "data": {
      "text/plain": [
       "6"
      ]
     },
     "execution_count": 10,
     "metadata": {},
     "output_type": "execute_result"
    }
   ],
   "source": [
    "len(n1)"
   ]
  },
  {
   "cell_type": "code",
   "execution_count": null,
   "metadata": {},
   "outputs": [],
   "source": [
    "def isLucky(n):\n",
    "    \n",
    "    n1 = str(n)\n",
    "    lenght = len(n1)\n",
    "    nsplit = [int(i) for i in n1]\n",
    "\n",
    "    first_half = 0\n",
    "    second_half = 0\n",
    "    for i in range(lenght):\n",
    "        if (i // 2):\n",
    "            first_half += nsplit[i]\n",
    "        else:\n",
    "            second_half += nsplit[i]\n",
    "\n",
    "    if first_half == second_half:\n",
    "        return True\n",
    "    else:\n",
    "        return False"
   ]
  }
 ],
 "metadata": {
  "kernelspec": {
   "display_name": "Python 3",
   "language": "python",
   "name": "python3"
  },
  "language_info": {
   "codemirror_mode": {
    "name": "ipython",
    "version": 3
   },
   "file_extension": ".py",
   "mimetype": "text/x-python",
   "name": "python",
   "nbconvert_exporter": "python",
   "pygments_lexer": "ipython3",
   "version": "3.7.6"
  }
 },
 "nbformat": 4,
 "nbformat_minor": 2
}
