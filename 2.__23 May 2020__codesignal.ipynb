{
 "cells": [
  {
   "cell_type": "code",
   "execution_count": 30,
   "metadata": {},
   "outputs": [
    {
     "name": "stdout",
     "output_type": "stream",
     "text": [
      "[150, 160, 170, 180, 190]\n"
     ]
    }
   ],
   "source": [
    "a = [-1, 150, 190, 170, -1, -1, 160, 180]\n",
    "\n",
    "b = sorted([i for i in a if i!=-1])\n",
    "print(b)"
   ]
  },
  {
   "cell_type": "code",
   "execution_count": 25,
   "metadata": {},
   "outputs": [],
   "source": [
    "def sortByHeight(a):\n",
    "    b = sorted([i for i in a if i!=-1])\n",
    "    j = 0\n",
    "    for i in range(len(a)):\n",
    "        if a[i] == -1:\n",
    "            pass\n",
    "        else:\n",
    "            a[i]=b[j]\n",
    "            j+=1\n",
    "    return a"
   ]
  },
  {
   "cell_type": "markdown",
   "metadata": {},
   "source": [
    "\n"
   ]
  },
  {
   "cell_type": "code",
   "execution_count": 32,
   "metadata": {},
   "outputs": [],
   "source": [
    "a = [-1, 150, 190, 170, -1, -1, 160, 180]"
   ]
  },
  {
   "cell_type": "code",
   "execution_count": 35,
   "metadata": {},
   "outputs": [],
   "source": [
    "def reverseInParentheses(s):\n",
    "    while '(' in s:\n",
    "        start=s.rfind('(')\n",
    "        end=s.find(')',start)\n",
    "        s=s[:start]+s[start+1:end][::-1]+s[end+1:]\n",
    "    return s"
   ]
  },
  {
   "cell_type": "code",
   "execution_count": 36,
   "metadata": {},
   "outputs": [
    {
     "name": "stdout",
     "output_type": "stream",
     "text": [
      "foorabbazmilb\n"
     ]
    }
   ],
   "source": [
    "print(reverseInParentheses('foo(bar)baz(blim)'))"
   ]
  },
  {
   "cell_type": "markdown",
   "metadata": {},
   "source": [
    "\n"
   ]
  },
  {
   "cell_type": "code",
   "execution_count": 21,
   "metadata": {},
   "outputs": [],
   "source": [
    "def alternatingSums(a):\n",
    "    sum1 = 0\n",
    "    sum2 = 0\n",
    "    for index, i in enumerate(a):\n",
    "        if index % 2 == 0:\n",
    "            sum1 += i\n",
    "        else:\n",
    "            sum2 += i\n",
    "    l = [sum1, sum2]\n",
    "    return l"
   ]
  },
  {
   "cell_type": "code",
   "execution_count": 24,
   "metadata": {},
   "outputs": [
    {
     "name": "stdout",
     "output_type": "stream",
     "text": [
      "[180, 105]\n"
     ]
    }
   ],
   "source": [
    "a = [50, 60, 60, 45, 70]\n",
    "\n",
    "print(alternatingSums(a))"
   ]
  },
  {
   "cell_type": "code",
   "execution_count": 20,
   "metadata": {},
   "outputs": [
    {
     "name": "stdout",
     "output_type": "stream",
     "text": [
      "80\n",
      "0\n"
     ]
    }
   ],
   "source": [
    "a = [80]\n",
    "\n",
    "\n",
    "print(sum1)\n",
    "print(sum2)"
   ]
  }
 ],
 "metadata": {
  "kernelspec": {
   "display_name": "Python 3",
   "language": "python",
   "name": "python3"
  },
  "language_info": {
   "codemirror_mode": {
    "name": "ipython",
    "version": 3
   },
   "file_extension": ".py",
   "mimetype": "text/x-python",
   "name": "python",
   "nbconvert_exporter": "python",
   "pygments_lexer": "ipython3",
   "version": "3.7.6"
  }
 },
 "nbformat": 4,
 "nbformat_minor": 4
}
